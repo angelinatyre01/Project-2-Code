{
 "cells": [
  {
   "cell_type": "markdown",
   "id": "bc00dbc1",
   "metadata": {},
   "source": [
    "### Project 02: Create a GUI Notebook Program"
   ]
  },
  {
   "cell_type": "markdown",
   "id": "b3f87ffb",
   "metadata": {},
   "source": [
    "Angelina Tyre 3/26"
   ]
  },
  {
   "cell_type": "markdown",
   "id": "62110c98",
   "metadata": {},
   "source": [
    "Project 2 will adapt the procedural code we have been working on in INST326_SimpleGUI_Note_Form_IO.ipynb to create an OOP version of the program using three classes.\n",
    "\n",
    "    A Notebook or MainWindow class\n",
    "    A Form or TopWindow class\n",
    "    A Note class\n",
    "\n",
    "The MainWindow class is a subclass of Tkinter’s tk.Tk class and thus inherits its attributes and methods, while allowing us to customize the new window objects to our needs. These new window objects will represent “notebooks” or collections of notes, and allow us to work with those notes. (I have named it MainWindow because this class definition could be used to create any kind of main window in Tkinter. We are using it to represent notebooks in this application, but you might use it for other purposes in onther applications.)\n"
   ]
  },
  {
   "cell_type": "markdown",
   "id": "67692272",
   "metadata": {},
   "source": [
    "The TopWindow class creates a new top window in Tkinter, which is essentially a form for entering the title, text, links, and tags for our note. When we submit the note, this “form” object has a method that creates the note’s metadata and a new Note object. That note object is appended to the list of all notes, which is an attribute of the notebook (MainWindow) class.\n",
    "The Note class creates note objects that contain the  title, text, links, tags, and metadata for each note.\n",
    "\n",
    "For Project 02 you will:  \n",
    "\n",
    "    1. Create one notebook or MainWindow object  \n",
    "    2. Create several (at least 3) ‘real’ notes for your final submission. By ‘real’ I mean actual notes about python that are useful to you. Print them in the cell at the bottom of the notebook.\n",
    "    3. Save those notes to a single .txt, .csv, or .json file (your choice of format).  \n",
    "    4. Retrieve those notes and \n",
    "    5. Display representations of them as either labels or buttons in the  main window (remember how we displayed cards in project 01). These representations are not whole notes. Rather, they are object representations of the notes.  \n",
    "    6. When they are clicked the whole note pops up in a new window - either the form window or a ‘read-only’ version of the form window.\n",
    "\n"
   ]
  },
  {
   "cell_type": "markdown",
   "id": "cd7630c0",
   "metadata": {},
   "source": [
    "#### Complete your code in the cell below"
   ]
  },
  {
   "cell_type": "markdown",
   "id": "50f0a965",
   "metadata": {},
   "source": [
    "The code cell below contains the imports you will need; the top level structure for the three classes to get you started; and the execution code at the bottom. "
   ]
  },
  {
   "cell_type": "code",
   "execution_count": null,
   "id": "57954c28",
   "metadata": {},
   "outputs": [],
   "source": [
    "import json\n",
    "import tkinter as tk\n",
    "\n",
    "# Define the Note class\n",
    "class Note:\n",
    "    def __init__(self, title, text, tags):\n",
    "        self.title = title\n",
    "        self.text = text\n",
    "        self.tags = tags\n",
    "\n",
    "# The MainWindow class creates a custom GUI window based on the tkinter window (tk.Tk)\n",
    "class MainWindow(tk.Tk):\n",
    "    def __init__(self):\n",
    "        super().__init__()\n",
    "        self.geometry(\"600x400\")\n",
    "        self.title('Notebook')\n",
    "        self.notebook = []\n",
    "        self.notes = []\n",
    "\n",
    "        # Load notes from the saved file when the main window is initialized\n",
    "        self.load_from_json('python_notes.json')\n",
    "\n",
    "    # Method to load notes from a JSON file\n",
    "    def load_from_json(self, filename):\n",
    "        try:\n",
    "            with open(filename, 'r') as file:\n",
    "                data = json.load(file)\n",
    "                self.notes = data\n",
    "                # Update the representation of notes in the main window\n",
    "                self.update_note_representations()\n",
    "        except FileNotFoundError:\n",
    "            print(\"No existing notes file found.\")\n",
    "        except json.JSONDecodeError:\n",
    "            print(\"Error decoding JSON data.\")\n",
    "\n",
    "    # Method to update the representation of notes in the main window\n",
    "    def update_note_representations(self):\n",
    "        # Clear existing representations\n",
    "        for widget in self.winfo_children():\n",
    "            widget.destroy()\n",
    "        \n",
    "        # Create new representations for each note\n",
    "        for i, note in enumerate(self.notes):\n",
    "            # Create a label for the note title and add it to the main window\n",
    "            title_label = tk.Label(self, text=f\"Note {i+1}: {note['title']}\")\n",
    "            title_label.pack()\n",
    "\n",
    "            # Create a button to view the full note and add it to the main window\n",
    "            view_button = tk.Button(self, text=\"View Note\", command=lambda idx=i: self.view_note(idx))\n",
    "            view_button.pack()\n",
    "\n",
    "    # Method to view the full note when the corresponding button is clicked\n",
    "    def view_note(self, index):\n",
    "        note = self.notes[index]\n",
    "        # Create a new window to display the full note\n",
    "        view_window = tk.Toplevel(self)\n",
    "        view_window.title(f\"Note: {note['title']}\")\n",
    "        # Create labels to display the title, text, and tags of the note\n",
    "        title_label = tk.Label(view_window, text=f\"Title: {note['title']}\")\n",
    "        title_label.pack()\n",
    "        text_label = tk.Label(view_window, text=f\"Text: {note['text']}\")\n",
    "        text_label.pack()\n",
    "        tags_label = tk.Label(view_window, text=f\"Tags: {', '.join(note['tags'])}\")\n",
    "        tags_label.pack()\n",
    "\n",
    "# main execution\n",
    "if __name__ == '__main__':\n",
    "    main_window = MainWindow()\n",
    "    main_window.mainloop()"
   ]
  },
  {
   "cell_type": "markdown",
   "id": "c50d5149",
   "metadata": {},
   "source": [
    "#### Print your three notes below"
   ]
  },
  {
   "cell_type": "code",
   "execution_count": 22,
   "id": "dd1811bf",
   "metadata": {},
   "outputs": [],
   "source": [
    "# print your notes here\n",
    "\n",
    "# Create three Python notes\n",
    "\n",
    "import json\n",
    "\n",
    "\n",
    "\n",
    "# Create a list to hold the notes\n",
    "\n",
    "notes = []\n",
    "\n",
    "\n",
    "\n",
    "# Define each note as a dictionary and append it to the list\n",
    "\n",
    "note1 = {\n",
    "\n",
    "    \"title\": \"Python Data Structures\",\n",
    "\n",
    "    \"text\": \"Python provides several built-in data structures such as lists, tuples, dictionaries, and sets. Each data structure has its own characteristics and use cases.\",\n",
    "\n",
    "    \"tags\": [\"Python\", \"data structures\"]\n",
    "\n",
    "}\n",
    "\n",
    "notes.append(note1)\n",
    "\n",
    "\n",
    "\n",
    "note2 = {\n",
    "\n",
    "    \"title\": \"Object-Oriented Programming in Python\",\n",
    "\n",
    "    \"text\": \"Object-oriented programming (OOP) is a programming paradigm that relies on the concept of classes and objects. In Python, everything is an object, and you can define your own classes to model real-world entities.\",\n",
    "\n",
    "    \"tags\": [\"Python\", \"OOP\"]\n",
    "\n",
    "}\n",
    "\n",
    "notes.append(note2)\n",
    "\n",
    "\n",
    "\n",
    "note3 = {\n",
    "\n",
    "    \"title\": \"Handling Exceptions in Python\",\n",
    "\n",
    "    \"text\": \"Exception handling allows you to gracefully handle errors and unexpected situations in your Python code. You can use try-except blocks to catch exceptions and handle them appropriately.\",\n",
    "\n",
    "    \"tags\": [\"Python\", \"exception handling\"]\n",
    "\n",
    "}\n",
    "\n",
    "notes.append(note3)\n",
    "\n",
    "\n",
    "\n",
    "# Save the notes to a .json file\n",
    "\n",
    "with open(\"python_notes.json\", \"w\") as file:\n",
    "\n",
    "    json.dump(notes, file, indent=4)"
   ]
  },
  {
   "cell_type": "code",
   "execution_count": null,
   "id": "d0df4289-b65d-4876-944e-4fff523dad07",
   "metadata": {},
   "outputs": [],
   "source": []
  }
 ],
 "metadata": {
  "kernelspec": {
   "display_name": "Python 3 (ipykernel)",
   "language": "python",
   "name": "python3"
  },
  "language_info": {
   "codemirror_mode": {
    "name": "ipython",
    "version": 3
   },
   "file_extension": ".py",
   "mimetype": "text/x-python",
   "name": "python",
   "nbconvert_exporter": "python",
   "pygments_lexer": "ipython3",
   "version": "3.11.4"
  }
 },
 "nbformat": 4,
 "nbformat_minor": 5
}
